{
 "cells": [
  {
   "cell_type": "code",
   "execution_count": 2,
   "id": "2e4fd55c",
   "metadata": {},
   "outputs": [],
   "source": [
    "import numpy\n",
    "from numpy import asarray\n",
    "from numpy.fft import fft2, ifft2, fftshift, ifftshift\n",
    "from scipy import misc\n",
    "from scipy import ndimage\n",
    "import math\n",
    "import imageio\n",
    "from PIL import Image"
   ]
  },
  {
   "cell_type": "code",
   "execution_count": null,
   "id": "7e5005f7",
   "metadata": {},
   "outputs": [],
   "source": []
  },
  {
   "cell_type": "code",
   "execution_count": null,
   "id": "7da67d13",
   "metadata": {},
   "outputs": [],
   "source": []
  },
  {
   "cell_type": "code",
   "execution_count": null,
   "id": "54e98cf4",
   "metadata": {},
   "outputs": [],
   "source": []
  },
  {
   "cell_type": "code",
   "execution_count": 3,
   "id": "cfe6f033",
   "metadata": {},
   "outputs": [],
   "source": [
    "def scaleSpectrum(A):\n",
    "   return numpy.real(numpy.log10(numpy.absolute(A) + numpy.ones(A.shape)))"
   ]
  },
  {
   "cell_type": "code",
   "execution_count": 4,
   "id": "abdd24eb",
   "metadata": {},
   "outputs": [],
   "source": [
    "# sample values from a spherical gaussian function from the center of the image\n",
    "def makeGaussianFilter(numRows, numCols, sigma, highPass=True):\n",
    "    centerI = int(numRows/2) + 1 if numRows % 2 == 1 else int(numRows/2)\n",
    "    centerJ = int(numCols/2) + 1 if numCols % 2 == 1 else int(numCols/2)\n",
    "    \n",
    "    def gaussian(i,j):\n",
    "      coefficient = math.exp(-1.0 * ((i - centerI)**2 + (j - centerJ)**2) / (2 * sigma**2))\n",
    "      return 1 - coefficient if highPass else coefficient\n",
    "\n",
    "    return numpy.array([[gaussian(i,j) for j in range(numCols)] for i in range(numRows)])"
   ]
  },
  {
   "cell_type": "code",
   "execution_count": 68,
   "id": "ee4d1696",
   "metadata": {},
   "outputs": [],
   "source": [
    "def filterDFT(imageMatrix, filterMatrix):\n",
    "    shiftedDFT = fftshift(fft2(imageMatrix))\n",
    "    imageio.imwrite(\"dft.png\", scaleSpectrum(shiftedDFT))\n",
    "    \n",
    "\n",
    "    filteredDFT = shiftedDFT*(filterMatrix)\n",
    "    imageio.imwrite(\"filtered-dft.png\", scaleSpectrum(filteredDFT))\n",
    "    return ifft2(ifftshift(filteredDFT))\n",
    "\n",
    "\n",
    "def lowPass(imageMatrix, sigma):\n",
    "    n,m = imageMatrix.shape\n",
    "    return filterDFT(imageMatrix, makeGaussianFilter(n, m, sigma, highPass=False))\n",
    "\n",
    "\n",
    "\n",
    "def hybridImage(highFreqImg, lowFreqImg, sigmaHigh, sigmaLow):\n",
    "    highPassed = highPass(highFreqImg, sigmaHigh)\n",
    "    lowPassed = lowPass(lowFreqImg, sigmaLow)\n",
    "\n",
    "    return highPassed + lowPassed\n",
    "\n",
    "\n",
    "def playWithFiltering():\n",
    "    img2 = imageio.imread(\"2.jpg\")\n",
    "    img2.flatten()\n",
    "\n",
    "    highPassedimg2 = highPass(img2, 20)\n",
    "    lowPassedimg2 = lowPass(img2, 20)\n",
    "\n",
    "    imageio.imwrite(\"low-passed-2.png\", numpy.real(lowPassedimg2))\n",
    "    imageio.imwrite(\"high-passed-2.png\", numpy.real(highPassedimg2))\n",
    "    imageio.imwrite(\"sum-of-2.png\", numpy.real((highPassedimg2 + lowPassedimg2)/2.0))"
   ]
  },
  {
   "cell_type": "code",
   "execution_count": 69,
   "id": "d6fdf10e",
   "metadata": {},
   "outputs": [],
   "source": [
    "def highPass(imageMatrix, sigma):\n",
    "    n,m = imageMatrix.shape\n",
    "    return filterDFT(imageMatrix, makeGaussianFilter(n, m, sigma, highPass=True))"
   ]
  },
  {
   "cell_type": "code",
   "execution_count": null,
   "id": "d37bea92",
   "metadata": {},
   "outputs": [],
   "source": []
  },
  {
   "cell_type": "code",
   "execution_count": 87,
   "id": "7914a0ac",
   "metadata": {
    "scrolled": true
   },
   "outputs": [
    {
     "name": "stderr",
     "output_type": "stream",
     "text": [
      "Lossy conversion from float64 to uint8. Range [0.23036147082860228, 8.512541208826455]. Convert image to uint8 prior to saving to suppress this warning.\n",
      "Lossy conversion from float64 to uint8. Range [0.0, 5.717133677651277]. Convert image to uint8 prior to saving to suppress this warning.\n",
      "Lossy conversion from float64 to uint8. Range [0.5026435080388721, 8.504635757064738]. Convert image to uint8 prior to saving to suppress this warning.\n",
      "Lossy conversion from float64 to uint8. Range [0.0, 8.504635757064738]. Convert image to uint8 prior to saving to suppress this warning.\n",
      "Lossy conversion from float64 to uint8. Range [-97.91342905772981, 311.3852555516544]. Convert image to uint8 prior to saving to suppress this warning.\n"
     ]
    }
   ],
   "source": [
    "if __name__ == \"__main__\":\n",
    "\n",
    "\n",
    "   \n",
    "\n",
    "    img1Raw = Image.open('penbox.jpeg')\n",
    "    img1 = img1Raw.convert('L')\n",
    "    img1.save('1.jpg')\n",
    "    \n",
    "    img2Raw = Image.open(\"pens.jpeg\")\n",
    "    img2 = img2Raw.convert('L')\n",
    "    img2.save('2.jpg')\n",
    "    \n",
    "    einstein = imageio.imread('1.jpg')\n",
    "    marilyn = imageio.imread('2.jpg')\n",
    "    \n",
    "    einstein.flatten()\n",
    "    marilyn.flatten()\n",
    "    \n",
    "  \n",
    "    hybrid = hybridImage(einstein, marilyn, 40, 30)\n",
    "    imageio.imwrite(\"HYBRID IMAGE.png\", numpy.real(hybrid))\n",
    "\n",
    "#     hybrid = hybridImage(marilyn,einstein,100 ,100 )\n",
    "#     imageio.imwrite(\"Case1.png\", numpy.real(hybrid))\n",
    "    \n",
    "#     hybrid = hybridImage(marilyn,einstein,1 ,1 )\n",
    "#     imageio.imwrite(\"Case2.png\", numpy.real(hybrid))"
   ]
  },
  {
   "cell_type": "code",
   "execution_count": null,
   "id": "29197f6b",
   "metadata": {},
   "outputs": [],
   "source": []
  },
  {
   "cell_type": "code",
   "execution_count": null,
   "id": "0fee4378",
   "metadata": {},
   "outputs": [],
   "source": []
  },
  {
   "cell_type": "code",
   "execution_count": null,
   "id": "355bb248",
   "metadata": {},
   "outputs": [],
   "source": []
  },
  {
   "cell_type": "code",
   "execution_count": null,
   "id": "5e603d3d",
   "metadata": {},
   "outputs": [],
   "source": []
  },
  {
   "cell_type": "code",
   "execution_count": null,
   "id": "fbd3a047",
   "metadata": {},
   "outputs": [],
   "source": []
  }
 ],
 "metadata": {
  "kernelspec": {
   "display_name": "Python 3 (ipykernel)",
   "language": "python",
   "name": "python3"
  },
  "language_info": {
   "codemirror_mode": {
    "name": "ipython",
    "version": 3
   },
   "file_extension": ".py",
   "mimetype": "text/x-python",
   "name": "python",
   "nbconvert_exporter": "python",
   "pygments_lexer": "ipython3",
   "version": "3.9.7"
  }
 },
 "nbformat": 4,
 "nbformat_minor": 5
}
